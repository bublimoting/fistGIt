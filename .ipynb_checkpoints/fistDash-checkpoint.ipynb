{
 "cells": [
  {
   "cell_type": "code",
   "execution_count": 19,
   "metadata": {},
   "outputs": [],
   "source": [
    "from jupyter_dash import JupyterDash"
   ]
  },
  {
   "cell_type": "code",
   "execution_count": 20,
   "metadata": {},
   "outputs": [],
   "source": [
    "from jupyter_dash import JupyterDash\n",
    "import dash  \n",
    "import dash_core_components as dcc \n",
    "import dash_html_components as html  \n",
    "\n",
    "\n",
    "# appという箱作り①\n",
    "app = JupyterDash(__name__)\n",
    "\n",
    "# appという箱に中身を詰める②\n",
    "app.layout = html.Div(\n",
    "   children =[\n",
    "    html.H1('Hello Dash',),\n",
    "    dcc.Graph(\n",
    "        id = \"first-graph\",\n",
    "        figure = {\n",
    "        'data': [\n",
    "            {'x': [1,2,3,4],\n",
    "            'y':[3,2,4,6],\n",
    "            'type': 'bar',\n",
    "            'name': '東京'},\n",
    "            {'x':[1,2,3,4],\n",
    "            'y':[2,4,3,2],\n",
    "            'type': 'bar',\n",
    "            'name': '大阪'}\n",
    "        ],\n",
    "        'layout': {\n",
    "            'title': 'グラフ1　東京　対　大阪'\n",
    "        }\n",
    "        }\n",
    "    )\n",
    "])\n",
    "\n",
    "# 実行用③\n",
    "if __name__=='__main__':\n",
    "    app.run_server(mode=\"jupyterlab\")"
   ]
  },
  {
   "cell_type": "code",
   "execution_count": 4,
   "metadata": {},
   "outputs": [],
   "source": [
    "quit"
   ]
  },
  {
   "cell_type": "code",
   "execution_count": 18,
   "metadata": {},
   "outputs": [],
   "source": [
    "\n",
    "\n",
    "import jupyterlab_dash\n",
    "import dash\n",
    "import dash_html_components as html\n",
    "\n",
    "viewer = jupyterlab_dash.AppViewer()\n",
    "\n",
    "app = dash.Dash(__name__)\n",
    "\n",
    "app.layout = html.Div('Hello World')\n",
    "\n",
    "viewer.show(app)"
   ]
  },
  {
   "cell_type": "code",
   "execution_count": null,
   "metadata": {},
   "outputs": [],
   "source": []
  }
 ],
 "metadata": {
  "kernelspec": {
   "display_name": "Python 3",
   "language": "python",
   "name": "python3"
  },
  "language_info": {
   "codemirror_mode": {
    "name": "ipython",
    "version": 3
   },
   "file_extension": ".py",
   "mimetype": "text/x-python",
   "name": "python",
   "nbconvert_exporter": "python",
   "pygments_lexer": "ipython3",
   "version": "3.7.7"
  }
 },
 "nbformat": 4,
 "nbformat_minor": 4
}
